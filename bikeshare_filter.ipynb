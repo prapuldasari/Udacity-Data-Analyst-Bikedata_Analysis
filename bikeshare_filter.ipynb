{
 "cells": [
  {
   "cell_type": "markdown",
   "metadata": {},
   "source": [
    "# US Bike Rides Analysis Near Bay Area"
   ]
  },
  {
   "cell_type": "markdown",
   "metadata": {},
   "source": [
    "# Introduction"
   ]
  },
  {
   "cell_type": "markdown",
   "metadata": {},
   "source": [
    "Bay Area Bike Share is a company that provides on-demand bike rentals for customers in San Francisco, Redwood City, Palo Alto, Mountain View, and San Jose. Users can unlock bikes from a variety of stations throughout each city, and return them to any station within the same city. Users pay for the service either through a yearly subscription or by purchasing 3-day or 24-hour passes. Users can make an unlimited number of trips, with trips under thirty minutes in length having no additional charge; longer trips will incur overtime fees.\n",
    "\n",
    "In this project, I will put myself in the shoes of a data analyst performing an exploratory analysis on the data. Here I will take a look at two of the major parts of the data analysis process: data wrangling and exploratory data analysis. Here I will be working on finding out few insights from the data which will help in **making smarter business decisions? Or you might think about if you were a user of the bike share service. What factors might influence how you would want to use the service?**"
   ]
  },
  {
   "cell_type": "markdown",
   "metadata": {},
   "source": [
    "# Data Wrangling"
   ]
  },
  {
   "cell_type": "markdown",
   "metadata": {},
   "source": [
    "First, I will be loading all of the packages and functions that i will be using in my analysis by running the first code cell below."
   ]
  },
  {
   "cell_type": "code",
   "execution_count": 1,
   "metadata": {},
   "outputs": [],
   "source": [
    "\"\"\"This version is with time filter and the city filter.\"\"\"\n",
    "import csv\n",
    "import pandas as pd\n",
    "import time\n",
    "import datetime\n",
    "import collections\n",
    "from collections import Counter"
   ]
  },
  {
   "cell_type": "code",
   "execution_count": 2,
   "metadata": {},
   "outputs": [],
   "source": [
    "samp_newyork=pd.read_csv('/Users/pra/Documents/new_york_city.csv')\n",
    "samp_chicago=pd.read_csv('/Users/pra/Documents/chicago.csv')\n",
    "samp_washington=pd.read_csv('/Users/pra/Documents/washington.csv')"
   ]
  },
  {
   "cell_type": "code",
   "execution_count": 3,
   "metadata": {},
   "outputs": [
    {
     "name": "stdout",
     "output_type": "stream",
     "text": [
      "NAN in newyork\n"
     ]
    },
    {
     "data": {
      "text/plain": [
       "Unnamed: 0           0\n",
       "Start Time           0\n",
       "End Time             0\n",
       "Trip Duration        0\n",
       "Start Station        0\n",
       "End Station          0\n",
       "User Type          692\n",
       "Gender           29209\n",
       "Birth Year       28220\n",
       "dtype: int64"
      ]
     },
     "execution_count": 3,
     "metadata": {},
     "output_type": "execute_result"
    }
   ],
   "source": [
    "print ('NAN in newyork')\n",
    "samp_newyork.isnull().sum()"
   ]
  },
  {
   "cell_type": "code",
   "execution_count": 4,
   "metadata": {},
   "outputs": [
    {
     "name": "stdout",
     "output_type": "stream",
     "text": [
      "NAN in chicago \n"
     ]
    },
    {
     "data": {
      "text/plain": [
       "Unnamed: 0           0\n",
       "Start Time           0\n",
       "End Time             0\n",
       "Trip Duration        0\n",
       "Start Station        0\n",
       "End Station          0\n",
       "User Type            0\n",
       "Gender           61052\n",
       "Birth Year       61019\n",
       "dtype: int64"
      ]
     },
     "execution_count": 4,
     "metadata": {},
     "output_type": "execute_result"
    }
   ],
   "source": [
    "print ('NAN in chicago ')\n",
    "samp_chicago.isnull().sum()"
   ]
  },
  {
   "cell_type": "code",
   "execution_count": 5,
   "metadata": {},
   "outputs": [
    {
     "name": "stdout",
     "output_type": "stream",
     "text": [
      "NAN in washington\n"
     ]
    },
    {
     "data": {
      "text/plain": [
       "Unnamed: 0       0\n",
       "Start Time       0\n",
       "End Time         0\n",
       "Trip Duration    0\n",
       "Start Station    0\n",
       "End Station      0\n",
       "User Type        0\n",
       "dtype: int64"
      ]
     },
     "execution_count": 5,
     "metadata": {},
     "output_type": "execute_result"
    }
   ],
   "source": [
    "print ('NAN in washington')\n",
    "samp_washington.isnull().sum()"
   ]
  },
  {
   "cell_type": "markdown",
   "metadata": {},
   "source": [
    "Here we can see that there was only missing values in the user type, gender, birth year and the remaining\n",
    "all others have no missing values so we can carry on the analysis without removing any rows till we\n",
    "consider these columns with missing values."
   ]
  },
  {
   "cell_type": "markdown",
   "metadata": {},
   "source": [
    "**Here I am implementing a function that helps in selecting the area which you want to \n",
    "concentrate you can also work on all the areas at once if wanted.**"
   ]
  },
  {
   "cell_type": "code",
   "execution_count": 7,
   "metadata": {},
   "outputs": [],
   "source": [
    "def get_city():\n",
    "    '''Asks the user for a city and returns the filename for that city's bike share data.\n",
    "\n",
    "    Args:\n",
    "        none.\n",
    "    Returns:\n",
    "        (str) Filename for a city's bikeshare data.\n",
    "    '''\n",
    "    cityname = input('\\nHello! Let\\'s explore some US bikeshare data!\\n'\n",
    "                 'Would you like to see data for Chicago, New York, or Washington?\\n')\n",
    "    cityname=cityname.lower()\n",
    "    city_verify=cityname\n",
    "    if (cityname=='newyork'):\n",
    "      filename='/Users/pra/Documents/new_york_city.csv'\n",
    "      city_df=pd.read_csv(filename)\n",
    "      return city_df,city_verify\n",
    "    elif (cityname=='washington'):\n",
    "      filename='/Users/pra/Documents/washington.csv'\n",
    "      city_df=pd.read_csv(filename)\n",
    "      return city_df,city_verify\n",
    "    elif (cityname=='chicago'):\n",
    "      filename='/Users/pra/Documents/chicago.csv'\n",
    "      city_df=pd.read_csv(filename)\n",
    "      return city_df,city_verify\n",
    "    else:\n",
    "      print (\"Enter only the above given names only\")\n",
    "      exit()"
   ]
  },
  {
   "cell_type": "markdown",
   "metadata": {},
   "source": [
    "Here I am implementing a function for finding the month with more number of rides so that we can know where we can add more rides and when to reduce so that there will be more utilization of the servie."
   ]
  },
  {
   "cell_type": "code",
   "execution_count": 17,
   "metadata": {},
   "outputs": [],
   "source": [
    "def popular_month(city_file):\n",
    "    '''This function calculates the month that occurs most often in the start time'''\n",
    "    city_file[\"Start Time\"] = pd.to_datetime(city_file[\"Start Time\"])\n",
    "    months= city_file[\"Start Time\"].dt.month\n",
    "    countmonths= Counter(months)\n",
    "    max_month=countmonths.most_common()[0:1]\n",
    "    for x in max_month:\n",
    "      if (x[0]==1):\n",
    "        y= 'January'\n",
    "      elif (x[0]==2):\n",
    "        y='February'\n",
    "      elif (x[0]==3):\n",
    "        y='March'\n",
    "      elif (x[0]==4):\n",
    "        y='April'\n",
    "      elif (x[0]==5):\n",
    "        y='May'\n",
    "      elif (x[0]==6):\n",
    "        y='June'\n",
    "      elif (x[0]==7):\n",
    "        y='July'\n",
    "      elif (x[0]==8):\n",
    "        y='August'\n",
    "      elif (x[0]==9):\n",
    "        y='September'\n",
    "      elif (x[0]==10):\n",
    "        y='October'\n",
    "      elif (x[0]==11):\n",
    "        y='November'\n",
    "      elif (x[0]==12):\n",
    "        y='December'\n",
    "      print (\"Month often seen in start time is {} month and count is {}\".format (y,x[1]))"
   ]
  },
  {
   "cell_type": "markdown",
   "metadata": {},
   "source": [
    "Here I am writing a function which find out the which day of the month, hour of the day more numer of rides are being used like first weekend second sundays etc"
   ]
  },
  {
   "cell_type": "code",
   "execution_count": 8,
   "metadata": {},
   "outputs": [],
   "source": [
    "def popular_day(city_file):\n",
    "    '''This function calculates the day that occurs most often in the start time\n",
    "    It takes city dataframe as the argument'''\n",
    "    city_file[\"Start Time\"] = pd.to_datetime(city_file[\"Start Time\"])\n",
    "    days= city_file[\"Start Time\"].dt.weekday\n",
    "    countdays= Counter(days)\n",
    "    max_day=countdays.most_common()[0:1]\n",
    "    for x in max_day:\n",
    "      if (x[0]==0):\n",
    "        y= 'Sunday'\n",
    "      elif (x[0]==1):\n",
    "        y='Monday'\n",
    "      elif (x[0]==2):\n",
    "        y='Tuesday'\n",
    "      elif (x[0]==3):\n",
    "        y='Wednesday'\n",
    "      elif (x[0]==4):\n",
    "        y='Thursday'\n",
    "      elif (x[0]==5):\n",
    "        y='Friday'\n",
    "      elif (x[0]==6):\n",
    "        y='Saturday'\n",
    "      print (\"Day often seen in start time is {}  weekday and count is {}\".format (y,x[1]))\n"
   ]
  },
  {
   "cell_type": "code",
   "execution_count": 9,
   "metadata": {},
   "outputs": [],
   "source": [
    "def popular_hour(city_file):\n",
    "    '''This function calculates the hour that occurs most often in the start time\n",
    "     It takes city dataframe as the argument'''\n",
    "    city_file[\"Start Time\"] = pd.to_datetime(city_file[\"Start Time\"])\n",
    "    hours= city_file[\"Start Time\"].dt.hour\n",
    "    counthours= Counter(hours)\n",
    "    max_hour=counthours.most_common()[0:1]\n",
    "    for x in max_hour:\n",
    "      print (\"Day often seen in start time is {} th hour and count is {}\".format (x[0],x[1]))"
   ]
  },
  {
   "cell_type": "markdown",
   "metadata": {},
   "source": [
    "Here we are implementing the function for finding out the station with more number of rides and the \n",
    "trip having maximum rides."
   ]
  },
  {
   "cell_type": "code",
   "execution_count": 10,
   "metadata": {},
   "outputs": [],
   "source": [
    "def popular_stations(city_file):\n",
    "    '''This function calculates the popular start station and the end station\n",
    "    It takes city dataframe as the argument'''\n",
    "    start_station=city_file.groupby([\"Start Station\"]).size()\n",
    "    end_station=city_file.groupby([\"End Station\"]).size()\n",
    "    print (\"The most comon start staion is {} and its count is{} \".format(start_station.idxmax(),start_station.max()))\n",
    "    print (\"The most common end station is {} and its count is {}\".format(end_station.idxmin(),end_station.max()))\n"
   ]
  },
  {
   "cell_type": "code",
   "execution_count": 11,
   "metadata": {},
   "outputs": [],
   "source": [
    "def popular_trip(city_file):\n",
    "    '''This function calculates the popular trip between start station and the end station'''\n",
    "    trip=city_file.groupby([\"Start Station\", \"End Station\"]).size()\n",
    "    print (\"The most common trip is between start station {} and end station {} and the count is {}\".format(trip.idxmax()[0],trip.idxmax()[1],trip.max()))\n"
   ]
  },
  {
   "cell_type": "markdown",
   "metadata": {},
   "source": [
    "Here we are finding out the types of users, genders so that they can provide incentives to the group having less count for increasing their business."
   ]
  },
  {
   "cell_type": "code",
   "execution_count": 12,
   "metadata": {},
   "outputs": [],
   "source": [
    "def users(city_file):\n",
    "    '''This function gives the  are the counts of each user type\n",
    "     It takes city dataframe as the argument'''\n",
    "    user=city_file['User Type'].tolist()\n",
    "    coustomer=0\n",
    "    subscriber=0\n",
    "    for i in range(len(user)):\n",
    "      if (user[i]=='Customer'):\n",
    "        coustomer+=1\n",
    "      elif (user[i]=='Subscriber'):\n",
    "        subscriber+=1\n",
    "    print (\"Total number of coustomer users are {}\".format(coustomer))\n",
    "    print (\"Total number of subscriber users are {}\".format(subscriber))\n"
   ]
  },
  {
   "cell_type": "code",
   "execution_count": 13,
   "metadata": {},
   "outputs": [],
   "source": [
    "def genders(city_file):\n",
    "    '''This function gives the counts of each gender type\n",
    "    It takes city dataframe as the argument'''\n",
    "    gender=city_file['Gender'].tolist()\n",
    "    male=0\n",
    "    female=0\n",
    "    for i in range(len(gender)):\n",
    "      if (gender[i]=='Male'):\n",
    "        male+=1\n",
    "      elif (gender[i]=='Female'):\n",
    "        female+=1\n",
    "    print (\"Total number of male users {}\".format(male))\n",
    "    print (\"Total number of femlae users {}\".format(female))"
   ]
  },
  {
   "cell_type": "markdown",
   "metadata": {},
   "source": [
    "Here we are implementing a function where we can find the trip duration and also the age groups who are more and less interested towards these rides."
   ]
  },
  {
   "cell_type": "code",
   "execution_count": 14,
   "metadata": {},
   "outputs": [],
   "source": [
    "def trip_duration(city_file):\n",
    "    '''This function gives the total and average duration of all the trips\n",
    "    It takes city dataframe as the argument'''\n",
    "    time_sec=city_file['Trip Duration'].sum()\n",
    "    ave_time_sec=city_file['Trip Duration'].mean()\n",
    "    print (\"Total  time for trip durations in minutes is {} and in hours is {} and seconds is {}\".format((time_sec)/60,(time_sec)/(60*60),time_sec))\n",
    "    print (\"Average time for trip durations in minutes is {} and in hours is {} and seconds is {}\".format((ave_time_sec)/60,(ave_time_sec)/(60*60),ave_time_sec))\n"
   ]
  },
  {
   "cell_type": "code",
   "execution_count": 15,
   "metadata": {},
   "outputs": [],
   "source": [
    "def birth_years(city_file):\n",
    "    ''' This function gives the earliest birth year (when the oldest person was born),\n",
    "    most recent birth year, and most common birth year?\n",
    "    '''\n",
    "    age=city_file['Birth Year']\n",
    "    common_age=city_file.groupby([\"Birth Year\"]).size()\n",
    "    print (\"The earliest birth year was {}\".format(int(age.max())))\n",
    "    print (\"The recent birth year was {}\".format(int(age.min())))\n",
    "    print (\"The most comon birth year is {} and its count is{} \".format(common_age.idxmax(),common_age.max()))\n",
    "\n"
   ]
  },
  {
   "cell_type": "markdown",
   "metadata": {},
   "source": [
    "This following function includes all the functions described above and finding out our insights."
   ]
  },
  {
   "cell_type": "code",
   "execution_count": null,
   "metadata": {},
   "outputs": [
    {
     "name": "stdout",
     "output_type": "stream",
     "text": [
      "\n",
      "Hello! Let's explore some US bikeshare data!\n",
      "Would you like to see data for Chicago, New York, or Washington?\n",
      "NewyoRk\n",
      "do you want any filters to be applied that is month day or both or none \n",
      "month\n",
      "enter month as number for example January=1\n",
      "5\n",
      "Month often seen in start time is May month and count is 67015\n",
      "That took 0.07295441627502441 seconds.\n",
      "Calculating the next statistic that is popular day...\n",
      "Day often seen in start time is Tuesday  weekday and count is 13422\n",
      "That took 0.01601123809814453 seconds.\n",
      "Calculating the next statistic that is popular hour...\n",
      "Day often seen in start time is 17 th hour and count is 6801\n",
      "That took 0.03202247619628906 seconds.\n",
      "Calculating the next statistic that is popular stations both start and end...\n",
      "The most comon start staion is Pershing Square North and its count is649 \n",
      "The most common end station is Bike The Branches - Central Branch and its count is 669\n",
      "That took 0.055040836334228516 seconds.\n",
      "Calculating the next statistic that is poplar trip between start and end station...\n",
      "The most common trip is between start station Central Park S & 6 Ave and end station Central Park S & 6 Ave and the count is 37\n",
      "That took 0.09037637710571289 seconds.\n",
      "Calculating the next statistic that is count of users...\n",
      "Total number of coustomer users are 8366\n",
      "Total number of subscriber users are 58649\n",
      "That took 0.10600090026855469 seconds.\n",
      "Calculating the next statistic that is trip duration...\n",
      "Total  time for trip durations in minutes is 1033140.5166666667 and in hours is 17219.008611111112 and seconds is 61988431\n",
      "Average time for trip durations in minutes is 15.41655624362705 and in hours is 0.25694260406045083 and seconds is 924.993374617623\n",
      "That took 0.10600090026855469 seconds.\n",
      "Calculating the next statistic that is genders count...\n",
      "Total number of male users 44051\n",
      "Total number of femlae users 15202\n",
      "That took 0.12162661552429199 seconds.\n",
      "Calculating the next statistic that is recent and old birth years...\n",
      "The earliest birth year was 2001\n",
      "The recent birth year was 1886\n",
      "The most comon birth year is 1989.0 and its count is2516 \n",
      "That took 0.12162661552429199 seconds.\n",
      "\n",
      "Would you like to restart? Type 'yes' or 'no'.\n",
      "yes\n",
      "\n",
      "Hello! Let's explore some US bikeshare data!\n",
      "Would you like to see data for Chicago, New York, or Washington?\n",
      "ChicAGo\n",
      "do you want any filters to be applied that is month day or both or none \n",
      "none\n",
      "Month often seen in start time is June month and count is 98081\n",
      "That took 0.07392263412475586 seconds.\n",
      "Calculating the next statistic that is popular day...\n",
      "Day often seen in start time is Monday  weekday and count is 45912\n",
      "That took 0.09373593330383301 seconds.\n",
      "Calculating the next statistic that is popular hour...\n",
      "Day often seen in start time is 17 th hour and count is 35992\n",
      "That took 0.17186236381530762 seconds.\n",
      "Calculating the next statistic that is popular stations both start and end...\n",
      "The most comon start staion is Streeter Dr & Grand Ave and its count is6911 \n",
      "The most common end station is Ashland Ave & 69th St and its count is 7512\n",
      "That took 0.30535125732421875 seconds.\n",
      "Calculating the next statistic that is poplar trip between start and end station...\n",
      "The most common trip is between start station Lake Shore Dr & Monroe St and end station Streeter Dr & Grand Ave and the count is 854\n",
      "That took 0.44922924041748047 seconds.\n",
      "Calculating the next statistic that is count of users...\n",
      "Total number of coustomer users are 61110\n",
      "Total number of subscriber users are 238889\n",
      "That took 0.5055923461914062 seconds.\n",
      "Calculating the next statistic that is trip duration...\n",
      "Total  time for trip durations in minutes is 4681196.45 and in hours is 78019.94083333333 and seconds is 280871787\n",
      "Average time for trip durations in minutes is 15.603988166666666 and in hours is 0.26006646944444445 and seconds is 936.23929\n",
      "That took 0.5212087631225586 seconds.\n",
      "Calculating the next statistic that is genders count...\n",
      "Total number of male users 181190\n",
      "Total number of femlae users 57758\n",
      "That took 0.5907540321350098 seconds.\n",
      "Calculating the next statistic that is recent and old birth years...\n",
      "The earliest birth year was 2016\n",
      "The recent birth year was 1899\n",
      "The most comon birth year is 1989.0 and its count is14666 \n",
      "That took 0.6219873428344727 seconds.\n"
     ]
    }
   ],
   "source": [
    "def statistics():\n",
    "    '''Calculates and prints out the descriptive statistics about a city and time period\n",
    "    specified by the user via raw input.\n",
    "\n",
    "    Args:\n",
    "        nonegiven    Returns:\n",
    "        nonegiven    '''\n",
    "    # Filter by city (Chicago, New York, Washington)7\n",
    "    city,city_verify = get_city()\n",
    "    city[\"Start Time\"] = pd.to_datetime(city[\"Start Time\"])\n",
    "    time_period=input(\"do you want any filters to be applied that is month day or both or none \\n\")\n",
    "    if (time_period=='month'):\n",
    "        month_given=input(\"enter month as number for example January=1\\n\")\n",
    "        if (1<=int(month_given)<=12):\n",
    "          city=city.loc[(city['Start Time'].dt.month==int(month_given))]\n",
    "        else:\n",
    "          print (\"Enter within the range\")\n",
    "          exit()\n",
    "    elif (time_period=='day'):\n",
    "      day_given=input(\"enter day as number for example Sunday=1\\n\")\n",
    "      if (0<=int(day_given)<=6):\n",
    "        city=city.loc[(city['Start Time'].dt.weekday==int(day_given))]\n",
    "      else:\n",
    "        print (\"Enter with in range\")\n",
    "        exit()\n",
    "    elif (time_period=='both'):\n",
    "      month_given=input(\"Enter the month as number for example January=1 \\n\")\n",
    "      day_given=input(\"enter day \\n\")\n",
    "      if (bool(0<=int(day_given)<=6) & bool(1<=int(month_given)<=12)):\n",
    "        city=city.loc[(city['Start Time'].dt.weekday==int(day_given)) & (city['Start Time'].dt.month==int(month_given))]\n",
    "      else:\n",
    "        print (\"Enter with  in the range of days\")\n",
    "        exit()\n",
    "    elif (time_period=='none'):\n",
    "    \tcity=city\n",
    "    else:\n",
    "      print (\"Enter a valid option\")\n",
    "      statistics()\n",
    "        \n",
    "    start_time = time.time()\n",
    "    popular_month(city)\n",
    "\n",
    "        #TODO: call popular_month function and print the results\n",
    "    print(\"That took %s seconds.\" % (time.time() - start_time))\n",
    "    print(\"Calculating the next statistic that is popular day...\")\n",
    "    start_time = time.time()\n",
    "    popular_day(city)\n",
    "    print(\"That took %s seconds.\" % (time.time() - start_time))\n",
    "    print(\"Calculating the next statistic that is popular hour...\")\n",
    "    popular_hour(city)\n",
    "    print(\"That took %s seconds.\" % (time.time() - start_time))\n",
    "    print(\"Calculating the next statistic that is popular stations both start and end...\")\n",
    "    popular_stations(city)\n",
    "    print(\"That took %s seconds.\" % (time.time() - start_time))\n",
    "    print(\"Calculating the next statistic that is poplar trip between start and end station...\")\n",
    "    popular_trip(city)\n",
    "    print(\"That took %s seconds.\" % (time.time() - start_time))\n",
    "    print(\"Calculating the next statistic that is count of users...\")\n",
    "    users(city)\n",
    "    print(\"That took %s seconds.\" % (time.time() - start_time))\n",
    "    print(\"Calculating the next statistic that is trip duration...\")\n",
    "    trip_duration(city)\n",
    "    print(\"That took %s seconds.\" % (time.time() - start_time))\n",
    "    print(\"Calculating the next statistic that is genders count...\")\n",
    "    if (city_verify=='washington'):\n",
    "      print (\"The column was not there for the current dataset\")\n",
    "      restart = input('\\nWould you like to restart? Type \\'yes\\' or \\'no\\'.\\n')\n",
    "      if restart.lower() == 'yes':\n",
    "        statistics()\n",
    "      else:\n",
    "        print (\"Exit Application done\")\n",
    "        exit()\n",
    "    else:\n",
    "      genders(city)\n",
    "    print(\"That took %s seconds.\" % (time.time() - start_time))\n",
    "    print(\"Calculating the next statistic that is recent and old birth years...\")\n",
    "    birth_years(city)\n",
    "    print(\"That took %s seconds.\" % (time.time() - start_time))\n",
    "    restart = input('\\nWould you like to restart? Type \\'yes\\' or \\'no\\'.\\n')\n",
    "    if restart.lower() == 'yes':\n",
    "      statistics()\n",
    "    else:\n",
    "        print (\"Exit Application done\")\n",
    "statistics()\n"
   ]
  },
  {
   "cell_type": "code",
   "execution_count": null,
   "metadata": {},
   "outputs": [],
   "source": []
  }
 ],
 "metadata": {
  "kernelspec": {
   "display_name": "Python 3",
   "language": "python",
   "name": "python3"
  },
  "language_info": {
   "codemirror_mode": {
    "name": "ipython",
    "version": 3
   },
   "file_extension": ".py",
   "mimetype": "text/x-python",
   "name": "python",
   "nbconvert_exporter": "python",
   "pygments_lexer": "ipython3",
   "version": "3.6.4"
  }
 },
 "nbformat": 4,
 "nbformat_minor": 2
}
